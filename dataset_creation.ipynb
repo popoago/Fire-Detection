{
 "cells": [
  {
   "cell_type": "code",
   "execution_count": 1,
   "metadata": {},
   "outputs": [],
   "source": [
    "%matplotlib inline"
   ]
  },
  {
   "cell_type": "code",
   "execution_count": 2,
   "metadata": {},
   "outputs": [],
   "source": [
    "import numpy as np\n",
    "import pandas as pd\n",
    "import cv2\n",
    "import os\n",
    "import sys\n",
    "import tensorflow as tf\n",
    "from matplotlib import pyplot as plt"
   ]
  },
  {
   "cell_type": "code",
   "execution_count": 3,
   "metadata": {},
   "outputs": [],
   "source": [
    "import xml.etree.ElementTree as ET  \n",
    "from xml.dom import minidom"
   ]
  },
  {
   "cell_type": "code",
   "execution_count": 4,
   "metadata": {},
   "outputs": [],
   "source": [
    "folder = \"/home/popoago/fire_detection/furg-fire-dataset-master/\""
   ]
  },
  {
   "cell_type": "code",
   "execution_count": 5,
   "metadata": {},
   "outputs": [],
   "source": [
    "files = os.listdir(\"/home/popoago/fire_detection/furg-fire-dataset-master/\")"
   ]
  },
  {
   "cell_type": "code",
   "execution_count": 6,
   "metadata": {},
   "outputs": [
    {
     "data": {
      "text/plain": [
       "['house2.xml',\n",
       " 'hand_held_nasa_training2.xml',\n",
       " 'house4.mp4',\n",
       " 'hand_held_nasa_training.xml',\n",
       " 'house4.xml',\n",
       " 'hand_held_nasa_training.mp4',\n",
       " 'hand_held_winnebago.xml',\n",
       " 'house5.xml',\n",
       " 'house3.mp4',\n",
       " 'barbecue.xml',\n",
       " 'house2.mp4',\n",
       " 'annotation_tool.png',\n",
       " 'house1.xml',\n",
       " 'house3.xml',\n",
       " 'case2_car.xml',\n",
       " 'barbecue.mp4',\n",
       " 'house5.mp4',\n",
       " 'case2_car.mp4',\n",
       " 'house6.mp4',\n",
       " 'house6.xml',\n",
       " 'remove']"
      ]
     },
     "execution_count": 6,
     "metadata": {},
     "output_type": "execute_result"
    }
   ],
   "source": [
    "files"
   ]
  },
  {
   "cell_type": "code",
   "execution_count": 7,
   "metadata": {},
   "outputs": [],
   "source": [
    "if not os.path.exists(\"/home/popoago/fire_detection/models-master/research/images\"):\n",
    "    os.makedirs(\"/home/popoago/fire_detection/models-master/research/images\")\n",
    "if not os.path.exists(\"/home/popoago/fire_detection/models-master/research/xmls\"):\n",
    "    os.makedirs(\"/home/popoago/fire_detection/models-master/research/xmls\")    \n",
    "if not os.path.exists(\"/home/popoago/fire_detection/models-master/research/images_test\"):\n",
    "    os.makedirs(\"/home/popoago/fire_detection/models-master/research/images_test\")\n",
    "if not os.path.exists(\"/home/popoago/fire_detection/models-master/research/xmls_test\"):\n",
    "    os.makedirs(\"/home/popoago/fire_detection/models-master/research/xmls_test\")    "
   ]
  },
  {
   "cell_type": "code",
   "execution_count": 8,
   "metadata": {},
   "outputs": [],
   "source": [
    "for file in files:\n",
    "    if file.endswith(\".mp4\"):\n",
    "        xml_file = file[:-3]+\"xml\"\n",
    "        tree=ET.parse(folder+xml_file)\n",
    "        root=tree.getroot()\n",
    "        cap = cv2.VideoCapture(folder+file)\n",
    "        frame_no=0\n",
    "        while(cap.isOpened()):\n",
    "            ret, frame = cap.read()\n",
    "            if not ret:\n",
    "                break\n",
    "            try:\n",
    "                check=(root[6][frame_no][1][0].text.split()[0])\n",
    "                \n",
    "                image_name=file[:-4]+str(frame_no)+\".jpg\"\n",
    "                if frame_no%20==0:\n",
    "                    cv2.imwrite(\"/home/popoago/fire_detection/models-master/research/images_test/\"+image_name,frame)\n",
    "                else:    \n",
    "                    cv2.imwrite(\"/home/popoago/fire_detection/models-master/research/images/\"+image_name,frame)\n",
    "\n",
    "                annotation=ET.Element('annotation')\n",
    "                folder_et=ET.SubElement(annotation,'folder')\n",
    "                filename_et=ET.SubElement(annotation,'filename')\n",
    "                path_et=ET.SubElement(annotation,'path')\n",
    "                source_et=ET.SubElement(annotation,'source')\n",
    "                database_et=ET.SubElement(source_et,\"database\")\n",
    "                size_et=ET.SubElement(annotation,'size')\n",
    "                width=ET.SubElement(size_et,\"width\")\n",
    "                height=ET.SubElement(size_et,\"height\")\n",
    "                depth=ET.SubElement(size_et,\"depth\")\n",
    "                segmented_et=ET.SubElement(annotation,'segmented')\n",
    "                object_et=ET.SubElement(annotation,'object')\n",
    "                name_et=ET.SubElement(object_et,'name')\n",
    "                pose_et=ET.SubElement(object_et,'pose')\n",
    "                truncated_et=ET.SubElement(object_et,'truncated')\n",
    "                difficult_et=ET.SubElement(object_et,'difficult')\n",
    "                occluded_et=ET.SubElement(object_et,'occluded')\n",
    "                bndbox_et=ET.SubElement(object_et,'bndbox')\n",
    "                xmin=ET.SubElement(bndbox_et,'xmin')\n",
    "                xmax=ET.SubElement(bndbox_et,'xmax')\n",
    "                ymin=ET.SubElement(bndbox_et,'ymin')\n",
    "                ymax=ET.SubElement(bndbox_et,'ymax')\n",
    "\n",
    "                folder_et.text='images'\n",
    "                filename_et.text=image_name\n",
    "                path_et.text=\"/home/popoago/fire_detection/xmls/\" + image_name\n",
    "                database_et.text=\"Unknown\"\n",
    "                width.text=root[3].text\n",
    "                height.text=root[4].text\n",
    "                depth.text='3'\n",
    "                segmented_et.text='0'\n",
    "                name_et.text='fire'\n",
    "                pose_et.text='Unspecified'\n",
    "                truncated_et.text='0'\n",
    "                difficult_et.text='0'\n",
    "                xmin.text=root[6][frame_no][1][0].text.split()[0]\n",
    "                ymin.text=root[6][frame_no][1][0].text.split()[1]\n",
    "                xmax.text=str(int(root[6][frame_no][1][0].text.split()[0]) + int(root[6][frame_no][1][0].text.split()[2]))\n",
    "                ymax.text=str(int(root[6][frame_no][1][0].text.split()[1]) + int(root[6][frame_no][1][0].text.split()[3]))\n",
    "\n",
    "                mydata = ET.tostring(annotation)\n",
    "                if frame_no%20==0:\n",
    "                    myfile = open(\"/home/popoago/fire_detection/models-master/research/xmls_test/\"+image_name[:-4]+\".xml\", \"wb\")  \n",
    "                    myfile.write(mydata)\n",
    "                    myfile.close()\n",
    "                else:\n",
    "                    myfile = open(\"/home/popoago/fire_detection/models-master/research/xmls/\"+image_name[:-4]+\".xml\", \"wb\")  \n",
    "                    myfile.write(mydata)\n",
    "                    myfile.close()\n",
    "            except:\n",
    "                pass\n",
    "            frame_no+=1"
   ]
  }
 ],
 "metadata": {
  "kernelspec": {
   "display_name": "Python 3",
   "language": "python",
   "name": "python3"
  },
  "language_info": {
   "codemirror_mode": {
    "name": "ipython",
    "version": 3
   },
   "file_extension": ".py",
   "mimetype": "text/x-python",
   "name": "python",
   "nbconvert_exporter": "python",
   "pygments_lexer": "ipython3",
   "version": "3.6.5"
  }
 },
 "nbformat": 4,
 "nbformat_minor": 2
}
